{
  "cells": [
    {
      "cell_type": "markdown",
      "metadata": {
        "id": "view-in-github",
        "colab_type": "text"
      },
      "source": [
        "<a href=\"https://colab.research.google.com/github/ayushwattal/FishMarketAnalysis/blob/main/FishMarketAnalysis_LinearRegression.ipynb\" target=\"_parent\"><img src=\"https://colab.research.google.com/assets/colab-badge.svg\" alt=\"Open In Colab\"/></a>"
      ]
    },
    {
      "cell_type": "code",
      "execution_count": 1,
      "id": "ce3f95a8",
      "metadata": {
        "execution": {
          "iopub.execute_input": "2021-08-22T18:50:06.938238Z",
          "iopub.status.busy": "2021-08-22T18:50:06.937498Z",
          "iopub.status.idle": "2021-08-22T18:50:07.952764Z",
          "shell.execute_reply": "2021-08-22T18:50:07.952037Z"
        },
        "papermill": {
          "duration": 1.044931,
          "end_time": "2021-08-22T18:50:07.952922",
          "exception": false,
          "start_time": "2021-08-22T18:50:06.907991",
          "status": "completed"
        },
        "tags": [],
        "id": "ce3f95a8"
      },
      "outputs": [],
      "source": [
        "#Importing libraries \n",
        "\n",
        "import pandas as pd\n",
        "import numpy as np\n",
        "import seaborn as sns\n",
        "import matplotlib.pyplot as plt\n",
        "%matplotlib inline\n",
        "import warnings\n",
        "warnings.filterwarnings('ignore')"
      ]
    },
    {
      "cell_type": "code",
      "execution_count": 2,
      "id": "ab5f42a4",
      "metadata": {
        "execution": {
          "iopub.execute_input": "2021-08-22T18:50:07.992938Z",
          "iopub.status.busy": "2021-08-22T18:50:07.992286Z",
          "iopub.status.idle": "2021-08-22T18:50:08.014523Z",
          "shell.execute_reply": "2021-08-22T18:50:08.013899Z",
          "shell.execute_reply.started": "2021-08-19T00:13:05.130175Z"
        },
        "papermill": {
          "duration": 0.044216,
          "end_time": "2021-08-22T18:50:08.014685",
          "exception": false,
          "start_time": "2021-08-22T18:50:07.970469",
          "status": "completed"
        },
        "tags": [],
        "id": "ab5f42a4"
      },
      "outputs": [],
      "source": [
        "df = pd.read_csv(\"./Fish.csv\") "
      ]
    },
    {
      "cell_type": "markdown",
      "id": "0224eeac",
      "metadata": {
        "papermill": {
          "duration": 0.017293,
          "end_time": "2021-08-22T18:50:08.049779",
          "exception": false,
          "start_time": "2021-08-22T18:50:08.032486",
          "status": "completed"
        },
        "tags": [],
        "id": "0224eeac"
      },
      "source": [
        "# Exploratory Data Analysis"
      ]
    },
    {
      "cell_type": "code",
      "execution_count": 3,
      "id": "48b3d23f",
      "metadata": {
        "execution": {
          "iopub.execute_input": "2021-08-22T18:50:08.096611Z",
          "iopub.status.busy": "2021-08-22T18:50:08.095745Z",
          "iopub.status.idle": "2021-08-22T18:50:08.119459Z",
          "shell.execute_reply": "2021-08-22T18:50:08.118941Z",
          "shell.execute_reply.started": "2021-08-19T00:13:05.164617Z"
        },
        "papermill": {
          "duration": 0.052384,
          "end_time": "2021-08-22T18:50:08.119609",
          "exception": false,
          "start_time": "2021-08-22T18:50:08.067225",
          "status": "completed"
        },
        "tags": [],
        "colab": {
          "base_uri": "https://localhost:8080/",
          "height": 206
        },
        "id": "48b3d23f",
        "outputId": "12f3d901-c990-4fbe-f7d7-2cf721bc3472"
      },
      "outputs": [
        {
          "output_type": "execute_result",
          "data": {
            "text/html": [
              "\n",
              "  <div id=\"df-80195ad7-ef6f-4b7b-9664-61b9d4a06641\">\n",
              "    <div class=\"colab-df-container\">\n",
              "      <div>\n",
              "<style scoped>\n",
              "    .dataframe tbody tr th:only-of-type {\n",
              "        vertical-align: middle;\n",
              "    }\n",
              "\n",
              "    .dataframe tbody tr th {\n",
              "        vertical-align: top;\n",
              "    }\n",
              "\n",
              "    .dataframe thead th {\n",
              "        text-align: right;\n",
              "    }\n",
              "</style>\n",
              "<table border=\"1\" class=\"dataframe\">\n",
              "  <thead>\n",
              "    <tr style=\"text-align: right;\">\n",
              "      <th></th>\n",
              "      <th>Species</th>\n",
              "      <th>Weight</th>\n",
              "      <th>Length1</th>\n",
              "      <th>Length2</th>\n",
              "      <th>Length3</th>\n",
              "      <th>Height</th>\n",
              "      <th>Width</th>\n",
              "    </tr>\n",
              "  </thead>\n",
              "  <tbody>\n",
              "    <tr>\n",
              "      <th>0</th>\n",
              "      <td>Bream</td>\n",
              "      <td>242.0</td>\n",
              "      <td>23.2</td>\n",
              "      <td>25.4</td>\n",
              "      <td>30.0</td>\n",
              "      <td>11.5200</td>\n",
              "      <td>4.0200</td>\n",
              "    </tr>\n",
              "    <tr>\n",
              "      <th>1</th>\n",
              "      <td>Bream</td>\n",
              "      <td>290.0</td>\n",
              "      <td>24.0</td>\n",
              "      <td>26.3</td>\n",
              "      <td>31.2</td>\n",
              "      <td>12.4800</td>\n",
              "      <td>4.3056</td>\n",
              "    </tr>\n",
              "    <tr>\n",
              "      <th>2</th>\n",
              "      <td>Bream</td>\n",
              "      <td>340.0</td>\n",
              "      <td>23.9</td>\n",
              "      <td>26.5</td>\n",
              "      <td>31.1</td>\n",
              "      <td>12.3778</td>\n",
              "      <td>4.6961</td>\n",
              "    </tr>\n",
              "    <tr>\n",
              "      <th>3</th>\n",
              "      <td>Bream</td>\n",
              "      <td>363.0</td>\n",
              "      <td>26.3</td>\n",
              "      <td>29.0</td>\n",
              "      <td>33.5</td>\n",
              "      <td>12.7300</td>\n",
              "      <td>4.4555</td>\n",
              "    </tr>\n",
              "    <tr>\n",
              "      <th>4</th>\n",
              "      <td>Bream</td>\n",
              "      <td>430.0</td>\n",
              "      <td>26.5</td>\n",
              "      <td>29.0</td>\n",
              "      <td>34.0</td>\n",
              "      <td>12.4440</td>\n",
              "      <td>5.1340</td>\n",
              "    </tr>\n",
              "  </tbody>\n",
              "</table>\n",
              "</div>\n",
              "      <button class=\"colab-df-convert\" onclick=\"convertToInteractive('df-80195ad7-ef6f-4b7b-9664-61b9d4a06641')\"\n",
              "              title=\"Convert this dataframe to an interactive table.\"\n",
              "              style=\"display:none;\">\n",
              "        \n",
              "  <svg xmlns=\"http://www.w3.org/2000/svg\" height=\"24px\"viewBox=\"0 0 24 24\"\n",
              "       width=\"24px\">\n",
              "    <path d=\"M0 0h24v24H0V0z\" fill=\"none\"/>\n",
              "    <path d=\"M18.56 5.44l.94 2.06.94-2.06 2.06-.94-2.06-.94-.94-2.06-.94 2.06-2.06.94zm-11 1L8.5 8.5l.94-2.06 2.06-.94-2.06-.94L8.5 2.5l-.94 2.06-2.06.94zm10 10l.94 2.06.94-2.06 2.06-.94-2.06-.94-.94-2.06-.94 2.06-2.06.94z\"/><path d=\"M17.41 7.96l-1.37-1.37c-.4-.4-.92-.59-1.43-.59-.52 0-1.04.2-1.43.59L10.3 9.45l-7.72 7.72c-.78.78-.78 2.05 0 2.83L4 21.41c.39.39.9.59 1.41.59.51 0 1.02-.2 1.41-.59l7.78-7.78 2.81-2.81c.8-.78.8-2.07 0-2.86zM5.41 20L4 18.59l7.72-7.72 1.47 1.35L5.41 20z\"/>\n",
              "  </svg>\n",
              "      </button>\n",
              "      \n",
              "  <style>\n",
              "    .colab-df-container {\n",
              "      display:flex;\n",
              "      flex-wrap:wrap;\n",
              "      gap: 12px;\n",
              "    }\n",
              "\n",
              "    .colab-df-convert {\n",
              "      background-color: #E8F0FE;\n",
              "      border: none;\n",
              "      border-radius: 50%;\n",
              "      cursor: pointer;\n",
              "      display: none;\n",
              "      fill: #1967D2;\n",
              "      height: 32px;\n",
              "      padding: 0 0 0 0;\n",
              "      width: 32px;\n",
              "    }\n",
              "\n",
              "    .colab-df-convert:hover {\n",
              "      background-color: #E2EBFA;\n",
              "      box-shadow: 0px 1px 2px rgba(60, 64, 67, 0.3), 0px 1px 3px 1px rgba(60, 64, 67, 0.15);\n",
              "      fill: #174EA6;\n",
              "    }\n",
              "\n",
              "    [theme=dark] .colab-df-convert {\n",
              "      background-color: #3B4455;\n",
              "      fill: #D2E3FC;\n",
              "    }\n",
              "\n",
              "    [theme=dark] .colab-df-convert:hover {\n",
              "      background-color: #434B5C;\n",
              "      box-shadow: 0px 1px 3px 1px rgba(0, 0, 0, 0.15);\n",
              "      filter: drop-shadow(0px 1px 2px rgba(0, 0, 0, 0.3));\n",
              "      fill: #FFFFFF;\n",
              "    }\n",
              "  </style>\n",
              "\n",
              "      <script>\n",
              "        const buttonEl =\n",
              "          document.querySelector('#df-80195ad7-ef6f-4b7b-9664-61b9d4a06641 button.colab-df-convert');\n",
              "        buttonEl.style.display =\n",
              "          google.colab.kernel.accessAllowed ? 'block' : 'none';\n",
              "\n",
              "        async function convertToInteractive(key) {\n",
              "          const element = document.querySelector('#df-80195ad7-ef6f-4b7b-9664-61b9d4a06641');\n",
              "          const dataTable =\n",
              "            await google.colab.kernel.invokeFunction('convertToInteractive',\n",
              "                                                     [key], {});\n",
              "          if (!dataTable) return;\n",
              "\n",
              "          const docLinkHtml = 'Like what you see? Visit the ' +\n",
              "            '<a target=\"_blank\" href=https://colab.research.google.com/notebooks/data_table.ipynb>data table notebook</a>'\n",
              "            + ' to learn more about interactive tables.';\n",
              "          element.innerHTML = '';\n",
              "          dataTable['output_type'] = 'display_data';\n",
              "          await google.colab.output.renderOutput(dataTable, element);\n",
              "          const docLink = document.createElement('div');\n",
              "          docLink.innerHTML = docLinkHtml;\n",
              "          element.appendChild(docLink);\n",
              "        }\n",
              "      </script>\n",
              "    </div>\n",
              "  </div>\n",
              "  "
            ],
            "text/plain": [
              "  Species  Weight  Length1  Length2  Length3   Height   Width\n",
              "0   Bream   242.0     23.2     25.4     30.0  11.5200  4.0200\n",
              "1   Bream   290.0     24.0     26.3     31.2  12.4800  4.3056\n",
              "2   Bream   340.0     23.9     26.5     31.1  12.3778  4.6961\n",
              "3   Bream   363.0     26.3     29.0     33.5  12.7300  4.4555\n",
              "4   Bream   430.0     26.5     29.0     34.0  12.4440  5.1340"
            ]
          },
          "metadata": {},
          "execution_count": 3
        }
      ],
      "source": [
        "df.head()"
      ]
    },
    {
      "cell_type": "code",
      "execution_count": 4,
      "id": "428f2471",
      "metadata": {
        "execution": {
          "iopub.execute_input": "2021-08-22T18:50:08.161648Z",
          "iopub.status.busy": "2021-08-22T18:50:08.160972Z",
          "iopub.status.idle": "2021-08-22T18:50:08.164475Z",
          "shell.execute_reply": "2021-08-22T18:50:08.163938Z",
          "shell.execute_reply.started": "2021-08-19T00:13:05.198699Z"
        },
        "papermill": {
          "duration": 0.026317,
          "end_time": "2021-08-22T18:50:08.164615",
          "exception": false,
          "start_time": "2021-08-22T18:50:08.138298",
          "status": "completed"
        },
        "tags": [],
        "id": "428f2471"
      },
      "outputs": [],
      "source": [
        "# Renaming Column Names for better understanding\n",
        "df.columns = ['species', 'weight','vertical_length','diagnol_length','cross_length','height','width']"
      ]
    },
    {
      "cell_type": "code",
      "execution_count": 5,
      "id": "ace1ed6c",
      "metadata": {
        "execution": {
          "iopub.execute_input": "2021-08-22T18:50:08.216454Z",
          "iopub.status.busy": "2021-08-22T18:50:08.215695Z",
          "iopub.status.idle": "2021-08-22T18:50:08.219262Z",
          "shell.execute_reply": "2021-08-22T18:50:08.218584Z",
          "shell.execute_reply.started": "2021-08-19T00:13:05.205497Z"
        },
        "papermill": {
          "duration": 0.036296,
          "end_time": "2021-08-22T18:50:08.219407",
          "exception": false,
          "start_time": "2021-08-22T18:50:08.183111",
          "status": "completed"
        },
        "tags": [],
        "colab": {
          "base_uri": "https://localhost:8080/",
          "height": 206
        },
        "id": "ace1ed6c",
        "outputId": "f23a7499-5df3-4815-ba6f-c56f8b760e4f"
      },
      "outputs": [
        {
          "output_type": "execute_result",
          "data": {
            "text/html": [
              "\n",
              "  <div id=\"df-8bd4c24d-54a6-4e31-80d2-79b1a9077ff3\">\n",
              "    <div class=\"colab-df-container\">\n",
              "      <div>\n",
              "<style scoped>\n",
              "    .dataframe tbody tr th:only-of-type {\n",
              "        vertical-align: middle;\n",
              "    }\n",
              "\n",
              "    .dataframe tbody tr th {\n",
              "        vertical-align: top;\n",
              "    }\n",
              "\n",
              "    .dataframe thead th {\n",
              "        text-align: right;\n",
              "    }\n",
              "</style>\n",
              "<table border=\"1\" class=\"dataframe\">\n",
              "  <thead>\n",
              "    <tr style=\"text-align: right;\">\n",
              "      <th></th>\n",
              "      <th>species</th>\n",
              "      <th>weight</th>\n",
              "      <th>vertical_length</th>\n",
              "      <th>diagnol_length</th>\n",
              "      <th>cross_length</th>\n",
              "      <th>height</th>\n",
              "      <th>width</th>\n",
              "    </tr>\n",
              "  </thead>\n",
              "  <tbody>\n",
              "    <tr>\n",
              "      <th>0</th>\n",
              "      <td>Bream</td>\n",
              "      <td>242.0</td>\n",
              "      <td>23.2</td>\n",
              "      <td>25.4</td>\n",
              "      <td>30.0</td>\n",
              "      <td>11.5200</td>\n",
              "      <td>4.0200</td>\n",
              "    </tr>\n",
              "    <tr>\n",
              "      <th>1</th>\n",
              "      <td>Bream</td>\n",
              "      <td>290.0</td>\n",
              "      <td>24.0</td>\n",
              "      <td>26.3</td>\n",
              "      <td>31.2</td>\n",
              "      <td>12.4800</td>\n",
              "      <td>4.3056</td>\n",
              "    </tr>\n",
              "    <tr>\n",
              "      <th>2</th>\n",
              "      <td>Bream</td>\n",
              "      <td>340.0</td>\n",
              "      <td>23.9</td>\n",
              "      <td>26.5</td>\n",
              "      <td>31.1</td>\n",
              "      <td>12.3778</td>\n",
              "      <td>4.6961</td>\n",
              "    </tr>\n",
              "    <tr>\n",
              "      <th>3</th>\n",
              "      <td>Bream</td>\n",
              "      <td>363.0</td>\n",
              "      <td>26.3</td>\n",
              "      <td>29.0</td>\n",
              "      <td>33.5</td>\n",
              "      <td>12.7300</td>\n",
              "      <td>4.4555</td>\n",
              "    </tr>\n",
              "    <tr>\n",
              "      <th>4</th>\n",
              "      <td>Bream</td>\n",
              "      <td>430.0</td>\n",
              "      <td>26.5</td>\n",
              "      <td>29.0</td>\n",
              "      <td>34.0</td>\n",
              "      <td>12.4440</td>\n",
              "      <td>5.1340</td>\n",
              "    </tr>\n",
              "  </tbody>\n",
              "</table>\n",
              "</div>\n",
              "      <button class=\"colab-df-convert\" onclick=\"convertToInteractive('df-8bd4c24d-54a6-4e31-80d2-79b1a9077ff3')\"\n",
              "              title=\"Convert this dataframe to an interactive table.\"\n",
              "              style=\"display:none;\">\n",
              "        \n",
              "  <svg xmlns=\"http://www.w3.org/2000/svg\" height=\"24px\"viewBox=\"0 0 24 24\"\n",
              "       width=\"24px\">\n",
              "    <path d=\"M0 0h24v24H0V0z\" fill=\"none\"/>\n",
              "    <path d=\"M18.56 5.44l.94 2.06.94-2.06 2.06-.94-2.06-.94-.94-2.06-.94 2.06-2.06.94zm-11 1L8.5 8.5l.94-2.06 2.06-.94-2.06-.94L8.5 2.5l-.94 2.06-2.06.94zm10 10l.94 2.06.94-2.06 2.06-.94-2.06-.94-.94-2.06-.94 2.06-2.06.94z\"/><path d=\"M17.41 7.96l-1.37-1.37c-.4-.4-.92-.59-1.43-.59-.52 0-1.04.2-1.43.59L10.3 9.45l-7.72 7.72c-.78.78-.78 2.05 0 2.83L4 21.41c.39.39.9.59 1.41.59.51 0 1.02-.2 1.41-.59l7.78-7.78 2.81-2.81c.8-.78.8-2.07 0-2.86zM5.41 20L4 18.59l7.72-7.72 1.47 1.35L5.41 20z\"/>\n",
              "  </svg>\n",
              "      </button>\n",
              "      \n",
              "  <style>\n",
              "    .colab-df-container {\n",
              "      display:flex;\n",
              "      flex-wrap:wrap;\n",
              "      gap: 12px;\n",
              "    }\n",
              "\n",
              "    .colab-df-convert {\n",
              "      background-color: #E8F0FE;\n",
              "      border: none;\n",
              "      border-radius: 50%;\n",
              "      cursor: pointer;\n",
              "      display: none;\n",
              "      fill: #1967D2;\n",
              "      height: 32px;\n",
              "      padding: 0 0 0 0;\n",
              "      width: 32px;\n",
              "    }\n",
              "\n",
              "    .colab-df-convert:hover {\n",
              "      background-color: #E2EBFA;\n",
              "      box-shadow: 0px 1px 2px rgba(60, 64, 67, 0.3), 0px 1px 3px 1px rgba(60, 64, 67, 0.15);\n",
              "      fill: #174EA6;\n",
              "    }\n",
              "\n",
              "    [theme=dark] .colab-df-convert {\n",
              "      background-color: #3B4455;\n",
              "      fill: #D2E3FC;\n",
              "    }\n",
              "\n",
              "    [theme=dark] .colab-df-convert:hover {\n",
              "      background-color: #434B5C;\n",
              "      box-shadow: 0px 1px 3px 1px rgba(0, 0, 0, 0.15);\n",
              "      filter: drop-shadow(0px 1px 2px rgba(0, 0, 0, 0.3));\n",
              "      fill: #FFFFFF;\n",
              "    }\n",
              "  </style>\n",
              "\n",
              "      <script>\n",
              "        const buttonEl =\n",
              "          document.querySelector('#df-8bd4c24d-54a6-4e31-80d2-79b1a9077ff3 button.colab-df-convert');\n",
              "        buttonEl.style.display =\n",
              "          google.colab.kernel.accessAllowed ? 'block' : 'none';\n",
              "\n",
              "        async function convertToInteractive(key) {\n",
              "          const element = document.querySelector('#df-8bd4c24d-54a6-4e31-80d2-79b1a9077ff3');\n",
              "          const dataTable =\n",
              "            await google.colab.kernel.invokeFunction('convertToInteractive',\n",
              "                                                     [key], {});\n",
              "          if (!dataTable) return;\n",
              "\n",
              "          const docLinkHtml = 'Like what you see? Visit the ' +\n",
              "            '<a target=\"_blank\" href=https://colab.research.google.com/notebooks/data_table.ipynb>data table notebook</a>'\n",
              "            + ' to learn more about interactive tables.';\n",
              "          element.innerHTML = '';\n",
              "          dataTable['output_type'] = 'display_data';\n",
              "          await google.colab.output.renderOutput(dataTable, element);\n",
              "          const docLink = document.createElement('div');\n",
              "          docLink.innerHTML = docLinkHtml;\n",
              "          element.appendChild(docLink);\n",
              "        }\n",
              "      </script>\n",
              "    </div>\n",
              "  </div>\n",
              "  "
            ],
            "text/plain": [
              "  species  weight  vertical_length  ...  cross_length   height   width\n",
              "0   Bream   242.0             23.2  ...          30.0  11.5200  4.0200\n",
              "1   Bream   290.0             24.0  ...          31.2  12.4800  4.3056\n",
              "2   Bream   340.0             23.9  ...          31.1  12.3778  4.6961\n",
              "3   Bream   363.0             26.3  ...          33.5  12.7300  4.4555\n",
              "4   Bream   430.0             26.5  ...          34.0  12.4440  5.1340\n",
              "\n",
              "[5 rows x 7 columns]"
            ]
          },
          "metadata": {},
          "execution_count": 5
        }
      ],
      "source": [
        "df.head()"
      ]
    },
    {
      "cell_type": "code",
      "execution_count": 6,
      "id": "d7d9e14a",
      "metadata": {
        "execution": {
          "iopub.execute_input": "2021-08-22T18:50:08.259940Z",
          "iopub.status.busy": "2021-08-22T18:50:08.259280Z",
          "iopub.status.idle": "2021-08-22T18:50:08.293185Z",
          "shell.execute_reply": "2021-08-22T18:50:08.292605Z",
          "shell.execute_reply.started": "2021-08-19T00:13:05.235076Z"
        },
        "papermill": {
          "duration": 0.054997,
          "end_time": "2021-08-22T18:50:08.293335",
          "exception": false,
          "start_time": "2021-08-22T18:50:08.238338",
          "status": "completed"
        },
        "tags": [],
        "colab": {
          "base_uri": "https://localhost:8080/",
          "height": 300
        },
        "id": "d7d9e14a",
        "outputId": "e5af9521-6d74-4291-80a0-9a169f0195f7"
      },
      "outputs": [
        {
          "output_type": "execute_result",
          "data": {
            "text/html": [
              "\n",
              "  <div id=\"df-63891765-b05a-4e7a-9202-a3ccb6c41c56\">\n",
              "    <div class=\"colab-df-container\">\n",
              "      <div>\n",
              "<style scoped>\n",
              "    .dataframe tbody tr th:only-of-type {\n",
              "        vertical-align: middle;\n",
              "    }\n",
              "\n",
              "    .dataframe tbody tr th {\n",
              "        vertical-align: top;\n",
              "    }\n",
              "\n",
              "    .dataframe thead th {\n",
              "        text-align: right;\n",
              "    }\n",
              "</style>\n",
              "<table border=\"1\" class=\"dataframe\">\n",
              "  <thead>\n",
              "    <tr style=\"text-align: right;\">\n",
              "      <th></th>\n",
              "      <th>weight</th>\n",
              "      <th>vertical_length</th>\n",
              "      <th>diagnol_length</th>\n",
              "      <th>cross_length</th>\n",
              "      <th>height</th>\n",
              "      <th>width</th>\n",
              "    </tr>\n",
              "  </thead>\n",
              "  <tbody>\n",
              "    <tr>\n",
              "      <th>count</th>\n",
              "      <td>159.000000</td>\n",
              "      <td>159.000000</td>\n",
              "      <td>159.000000</td>\n",
              "      <td>159.000000</td>\n",
              "      <td>159.000000</td>\n",
              "      <td>159.000000</td>\n",
              "    </tr>\n",
              "    <tr>\n",
              "      <th>mean</th>\n",
              "      <td>398.326415</td>\n",
              "      <td>26.247170</td>\n",
              "      <td>28.415723</td>\n",
              "      <td>31.227044</td>\n",
              "      <td>8.970994</td>\n",
              "      <td>4.417486</td>\n",
              "    </tr>\n",
              "    <tr>\n",
              "      <th>std</th>\n",
              "      <td>357.978317</td>\n",
              "      <td>9.996441</td>\n",
              "      <td>10.716328</td>\n",
              "      <td>11.610246</td>\n",
              "      <td>4.286208</td>\n",
              "      <td>1.685804</td>\n",
              "    </tr>\n",
              "    <tr>\n",
              "      <th>min</th>\n",
              "      <td>0.000000</td>\n",
              "      <td>7.500000</td>\n",
              "      <td>8.400000</td>\n",
              "      <td>8.800000</td>\n",
              "      <td>1.728400</td>\n",
              "      <td>1.047600</td>\n",
              "    </tr>\n",
              "    <tr>\n",
              "      <th>25%</th>\n",
              "      <td>120.000000</td>\n",
              "      <td>19.050000</td>\n",
              "      <td>21.000000</td>\n",
              "      <td>23.150000</td>\n",
              "      <td>5.944800</td>\n",
              "      <td>3.385650</td>\n",
              "    </tr>\n",
              "    <tr>\n",
              "      <th>50%</th>\n",
              "      <td>273.000000</td>\n",
              "      <td>25.200000</td>\n",
              "      <td>27.300000</td>\n",
              "      <td>29.400000</td>\n",
              "      <td>7.786000</td>\n",
              "      <td>4.248500</td>\n",
              "    </tr>\n",
              "    <tr>\n",
              "      <th>75%</th>\n",
              "      <td>650.000000</td>\n",
              "      <td>32.700000</td>\n",
              "      <td>35.500000</td>\n",
              "      <td>39.650000</td>\n",
              "      <td>12.365900</td>\n",
              "      <td>5.584500</td>\n",
              "    </tr>\n",
              "    <tr>\n",
              "      <th>max</th>\n",
              "      <td>1650.000000</td>\n",
              "      <td>59.000000</td>\n",
              "      <td>63.400000</td>\n",
              "      <td>68.000000</td>\n",
              "      <td>18.957000</td>\n",
              "      <td>8.142000</td>\n",
              "    </tr>\n",
              "  </tbody>\n",
              "</table>\n",
              "</div>\n",
              "      <button class=\"colab-df-convert\" onclick=\"convertToInteractive('df-63891765-b05a-4e7a-9202-a3ccb6c41c56')\"\n",
              "              title=\"Convert this dataframe to an interactive table.\"\n",
              "              style=\"display:none;\">\n",
              "        \n",
              "  <svg xmlns=\"http://www.w3.org/2000/svg\" height=\"24px\"viewBox=\"0 0 24 24\"\n",
              "       width=\"24px\">\n",
              "    <path d=\"M0 0h24v24H0V0z\" fill=\"none\"/>\n",
              "    <path d=\"M18.56 5.44l.94 2.06.94-2.06 2.06-.94-2.06-.94-.94-2.06-.94 2.06-2.06.94zm-11 1L8.5 8.5l.94-2.06 2.06-.94-2.06-.94L8.5 2.5l-.94 2.06-2.06.94zm10 10l.94 2.06.94-2.06 2.06-.94-2.06-.94-.94-2.06-.94 2.06-2.06.94z\"/><path d=\"M17.41 7.96l-1.37-1.37c-.4-.4-.92-.59-1.43-.59-.52 0-1.04.2-1.43.59L10.3 9.45l-7.72 7.72c-.78.78-.78 2.05 0 2.83L4 21.41c.39.39.9.59 1.41.59.51 0 1.02-.2 1.41-.59l7.78-7.78 2.81-2.81c.8-.78.8-2.07 0-2.86zM5.41 20L4 18.59l7.72-7.72 1.47 1.35L5.41 20z\"/>\n",
              "  </svg>\n",
              "      </button>\n",
              "      \n",
              "  <style>\n",
              "    .colab-df-container {\n",
              "      display:flex;\n",
              "      flex-wrap:wrap;\n",
              "      gap: 12px;\n",
              "    }\n",
              "\n",
              "    .colab-df-convert {\n",
              "      background-color: #E8F0FE;\n",
              "      border: none;\n",
              "      border-radius: 50%;\n",
              "      cursor: pointer;\n",
              "      display: none;\n",
              "      fill: #1967D2;\n",
              "      height: 32px;\n",
              "      padding: 0 0 0 0;\n",
              "      width: 32px;\n",
              "    }\n",
              "\n",
              "    .colab-df-convert:hover {\n",
              "      background-color: #E2EBFA;\n",
              "      box-shadow: 0px 1px 2px rgba(60, 64, 67, 0.3), 0px 1px 3px 1px rgba(60, 64, 67, 0.15);\n",
              "      fill: #174EA6;\n",
              "    }\n",
              "\n",
              "    [theme=dark] .colab-df-convert {\n",
              "      background-color: #3B4455;\n",
              "      fill: #D2E3FC;\n",
              "    }\n",
              "\n",
              "    [theme=dark] .colab-df-convert:hover {\n",
              "      background-color: #434B5C;\n",
              "      box-shadow: 0px 1px 3px 1px rgba(0, 0, 0, 0.15);\n",
              "      filter: drop-shadow(0px 1px 2px rgba(0, 0, 0, 0.3));\n",
              "      fill: #FFFFFF;\n",
              "    }\n",
              "  </style>\n",
              "\n",
              "      <script>\n",
              "        const buttonEl =\n",
              "          document.querySelector('#df-63891765-b05a-4e7a-9202-a3ccb6c41c56 button.colab-df-convert');\n",
              "        buttonEl.style.display =\n",
              "          google.colab.kernel.accessAllowed ? 'block' : 'none';\n",
              "\n",
              "        async function convertToInteractive(key) {\n",
              "          const element = document.querySelector('#df-63891765-b05a-4e7a-9202-a3ccb6c41c56');\n",
              "          const dataTable =\n",
              "            await google.colab.kernel.invokeFunction('convertToInteractive',\n",
              "                                                     [key], {});\n",
              "          if (!dataTable) return;\n",
              "\n",
              "          const docLinkHtml = 'Like what you see? Visit the ' +\n",
              "            '<a target=\"_blank\" href=https://colab.research.google.com/notebooks/data_table.ipynb>data table notebook</a>'\n",
              "            + ' to learn more about interactive tables.';\n",
              "          element.innerHTML = '';\n",
              "          dataTable['output_type'] = 'display_data';\n",
              "          await google.colab.output.renderOutput(dataTable, element);\n",
              "          const docLink = document.createElement('div');\n",
              "          docLink.innerHTML = docLinkHtml;\n",
              "          element.appendChild(docLink);\n",
              "        }\n",
              "      </script>\n",
              "    </div>\n",
              "  </div>\n",
              "  "
            ],
            "text/plain": [
              "            weight  vertical_length  ...      height       width\n",
              "count   159.000000       159.000000  ...  159.000000  159.000000\n",
              "mean    398.326415        26.247170  ...    8.970994    4.417486\n",
              "std     357.978317         9.996441  ...    4.286208    1.685804\n",
              "min       0.000000         7.500000  ...    1.728400    1.047600\n",
              "25%     120.000000        19.050000  ...    5.944800    3.385650\n",
              "50%     273.000000        25.200000  ...    7.786000    4.248500\n",
              "75%     650.000000        32.700000  ...   12.365900    5.584500\n",
              "max    1650.000000        59.000000  ...   18.957000    8.142000\n",
              "\n",
              "[8 rows x 6 columns]"
            ]
          },
          "metadata": {},
          "execution_count": 6
        }
      ],
      "source": [
        "df.describe()"
      ]
    },
    {
      "cell_type": "markdown",
      "id": "ace1f11f",
      "metadata": {
        "papermill": {
          "duration": 0.019057,
          "end_time": "2021-08-22T18:50:08.332247",
          "exception": false,
          "start_time": "2021-08-22T18:50:08.313190",
          "status": "completed"
        },
        "tags": [],
        "id": "ace1f11f"
      },
      "source": [
        "# Least-squares regression Line "
      ]
    },
    {
      "cell_type": "code",
      "execution_count": 7,
      "id": "52ebfb7d",
      "metadata": {
        "execution": {
          "iopub.execute_input": "2021-08-22T18:50:08.379565Z",
          "iopub.status.busy": "2021-08-22T18:50:08.378876Z",
          "iopub.status.idle": "2021-08-22T18:50:08.382097Z",
          "shell.execute_reply": "2021-08-22T18:50:08.381533Z",
          "shell.execute_reply.started": "2021-08-19T00:13:05.273208Z"
        },
        "papermill": {
          "duration": 0.030481,
          "end_time": "2021-08-22T18:50:08.382256",
          "exception": false,
          "start_time": "2021-08-22T18:50:08.351775",
          "status": "completed"
        },
        "tags": [],
        "id": "52ebfb7d"
      },
      "outputs": [],
      "source": [
        "# Doing calculation to compute the least-square regression line\n",
        "\n",
        "x = np.array(df['vertical_length'])\n",
        "y = np.array(df['weight'])\n",
        "n = len(x)\n",
        "    \n",
        "# Doing calculation to compute the least-square regression line\n",
        "\n",
        "sum_x  = np.sum(x)\n",
        "sum_y  = np.sum(y)\n",
        "sum_xx = np.sum(x*x)\n",
        "sum_xy = np.sum(x*y)\n",
        "mean_x = np.mean(x)\n",
        "mean_y = np.mean(y)\n",
        "    \n",
        "numerator   = sum_xy - ((sum_x*sum_y)/n)\n",
        "denominator = sum_xx - ((sum_x*sum_x)/n)\n",
        "\n",
        "# m and b are the slope and intercept calculated for given x and y values \n",
        "\n",
        "m = numerator/denominator\n",
        "b = mean_y - m*mean_x"
      ]
    },
    {
      "cell_type": "code",
      "execution_count": 8,
      "id": "2840a4c7",
      "metadata": {
        "execution": {
          "iopub.execute_input": "2021-08-22T18:50:08.424105Z",
          "iopub.status.busy": "2021-08-22T18:50:08.423461Z",
          "iopub.status.idle": "2021-08-22T18:50:08.630383Z",
          "shell.execute_reply": "2021-08-22T18:50:08.630829Z",
          "shell.execute_reply.started": "2021-08-19T00:13:05.283705Z"
        },
        "papermill": {
          "duration": 0.229613,
          "end_time": "2021-08-22T18:50:08.631000",
          "exception": false,
          "start_time": "2021-08-22T18:50:08.401387",
          "status": "completed"
        },
        "tags": [],
        "colab": {
          "base_uri": "https://localhost:8080/",
          "height": 312
        },
        "id": "2840a4c7",
        "outputId": "8916877f-ed91-4ac7-a58a-45649074fa72"
      },
      "outputs": [
        {
          "output_type": "display_data",
          "data": {
            "image/png": "[encoded data removed]",
            "text/plain": [
              "<Figure size 432x288 with 1 Axes>"
            ]
          },
          "metadata": {
            "needs_background": "light"
          }
        },
        {
          "output_type": "display_data",
          "data": {
            "text/plain": [
              "<Figure size 720x360 with 0 Axes>"
            ]
          },
          "metadata": {}
        }
      ],
      "source": [
        "# regression line plot\n",
        "\n",
        "plt.scatter(x,y)\n",
        "plt.plot(x, m*x+b, color='red')\n",
        "plt.title(f'Linear Regression Line , m = {m:.2f}, b = {b:.2f}')\n",
        "plt.ylabel(\"Fish Weight\")\n",
        "plt.xlabel(\"Vertical Length\")\n",
        "plt.figure(figsize=(10,5))\n",
        "plt.show()"
      ]
    },
    {
      "cell_type": "markdown",
      "id": "11967f85",
      "metadata": {
        "papermill": {
          "duration": 0.020004,
          "end_time": "2021-08-22T18:50:08.671570",
          "exception": false,
          "start_time": "2021-08-22T18:50:08.651566",
          "status": "completed"
        },
        "tags": [],
        "id": "11967f85"
      },
      "source": [
        "The Linear Regression Line is straight line with postive upward slope .\n",
        "\n",
        "As value of x (vertical length) is increasing the value of y (weight) is also increasing gradually.\n",
        "\n",
        "Thus, we can say that y is dependent on x value"
      ]
    },
    {
      "cell_type": "markdown",
      "id": "e2f262aa",
      "metadata": {
        "papermill": {
          "duration": 0.019985,
          "end_time": "2021-08-22T18:50:08.711933",
          "exception": false,
          "start_time": "2021-08-22T18:50:08.691948",
          "status": "completed"
        },
        "tags": [],
        "id": "e2f262aa"
      },
      "source": [
        "# Correlation Coefficient\n"
      ]
    },
    {
      "cell_type": "code",
      "execution_count": 9,
      "id": "1339192d",
      "metadata": {
        "execution": {
          "iopub.execute_input": "2021-08-22T18:50:08.771249Z",
          "iopub.status.busy": "2021-08-22T18:50:08.770319Z",
          "iopub.status.idle": "2021-08-22T18:50:08.774337Z",
          "shell.execute_reply": "2021-08-22T18:50:08.774801Z",
          "shell.execute_reply.started": "2021-08-19T00:13:05.517464Z"
        },
        "papermill": {
          "duration": 0.042597,
          "end_time": "2021-08-22T18:50:08.774972",
          "exception": false,
          "start_time": "2021-08-22T18:50:08.732375",
          "status": "completed"
        },
        "tags": [],
        "colab": {
          "base_uri": "https://localhost:8080/",
          "height": 238
        },
        "id": "1339192d",
        "outputId": "27f98a29-1916-40a5-87ea-126605bad18f"
      },
      "outputs": [
        {
          "output_type": "execute_result",
          "data": {
            "text/html": [
              "\n",
              "  <div id=\"df-5aa0cb50-0d84-468c-87a6-5ab2200744ae\">\n",
              "    <div class=\"colab-df-container\">\n",
              "      <div>\n",
              "<style scoped>\n",
              "    .dataframe tbody tr th:only-of-type {\n",
              "        vertical-align: middle;\n",
              "    }\n",
              "\n",
              "    .dataframe tbody tr th {\n",
              "        vertical-align: top;\n",
              "    }\n",
              "\n",
              "    .dataframe thead th {\n",
              "        text-align: right;\n",
              "    }\n",
              "</style>\n",
              "<table border=\"1\" class=\"dataframe\">\n",
              "  <thead>\n",
              "    <tr style=\"text-align: right;\">\n",
              "      <th></th>\n",
              "      <th>weight</th>\n",
              "      <th>vertical_length</th>\n",
              "      <th>diagnol_length</th>\n",
              "      <th>cross_length</th>\n",
              "      <th>height</th>\n",
              "      <th>width</th>\n",
              "    </tr>\n",
              "  </thead>\n",
              "  <tbody>\n",
              "    <tr>\n",
              "      <th>weight</th>\n",
              "      <td>1.000000</td>\n",
              "      <td>0.915712</td>\n",
              "      <td>0.918618</td>\n",
              "      <td>0.923044</td>\n",
              "      <td>0.724345</td>\n",
              "      <td>0.886507</td>\n",
              "    </tr>\n",
              "    <tr>\n",
              "      <th>vertical_length</th>\n",
              "      <td>0.915712</td>\n",
              "      <td>1.000000</td>\n",
              "      <td>0.999517</td>\n",
              "      <td>0.992031</td>\n",
              "      <td>0.625378</td>\n",
              "      <td>0.867050</td>\n",
              "    </tr>\n",
              "    <tr>\n",
              "      <th>diagnol_length</th>\n",
              "      <td>0.918618</td>\n",
              "      <td>0.999517</td>\n",
              "      <td>1.000000</td>\n",
              "      <td>0.994103</td>\n",
              "      <td>0.640441</td>\n",
              "      <td>0.873547</td>\n",
              "    </tr>\n",
              "    <tr>\n",
              "      <th>cross_length</th>\n",
              "      <td>0.923044</td>\n",
              "      <td>0.992031</td>\n",
              "      <td>0.994103</td>\n",
              "      <td>1.000000</td>\n",
              "      <td>0.703409</td>\n",
              "      <td>0.878520</td>\n",
              "    </tr>\n",
              "    <tr>\n",
              "      <th>height</th>\n",
              "      <td>0.724345</td>\n",
              "      <td>0.625378</td>\n",
              "      <td>0.640441</td>\n",
              "      <td>0.703409</td>\n",
              "      <td>1.000000</td>\n",
              "      <td>0.792881</td>\n",
              "    </tr>\n",
              "    <tr>\n",
              "      <th>width</th>\n",
              "      <td>0.886507</td>\n",
              "      <td>0.867050</td>\n",
              "      <td>0.873547</td>\n",
              "      <td>0.878520</td>\n",
              "      <td>0.792881</td>\n",
              "      <td>1.000000</td>\n",
              "    </tr>\n",
              "  </tbody>\n",
              "</table>\n",
              "</div>\n",
              "      <button class=\"colab-df-convert\" onclick=\"convertToInteractive('df-5aa0cb50-0d84-468c-87a6-5ab2200744ae')\"\n",
              "              title=\"Convert this dataframe to an interactive table.\"\n",
              "              style=\"display:none;\">\n",
              "        \n",
              "  <svg xmlns=\"http://www.w3.org/2000/svg\" height=\"24px\"viewBox=\"0 0 24 24\"\n",
              "       width=\"24px\">\n",
              "    <path d=\"M0 0h24v24H0V0z\" fill=\"none\"/>\n",
              "    <path d=\"M18.56 5.44l.94 2.06.94-2.06 2.06-.94-2.06-.94-.94-2.06-.94 2.06-2.06.94zm-11 1L8.5 8.5l.94-2.06 2.06-.94-2.06-.94L8.5 2.5l-.94 2.06-2.06.94zm10 10l.94 2.06.94-2.06 2.06-.94-2.06-.94-.94-2.06-.94 2.06-2.06.94z\"/><path d=\"M17.41 7.96l-1.37-1.37c-.4-.4-.92-.59-1.43-.59-.52 0-1.04.2-1.43.59L10.3 9.45l-7.72 7.72c-.78.78-.78 2.05 0 2.83L4 21.41c.39.39.9.59 1.41.59.51 0 1.02-.2 1.41-.59l7.78-7.78 2.81-2.81c.8-.78.8-2.07 0-2.86zM5.41 20L4 18.59l7.72-7.72 1.47 1.35L5.41 20z\"/>\n",
              "  </svg>\n",
              "      </button>\n",
              "      \n",
              "  <style>\n",
              "    .colab-df-container {\n",
              "      display:flex;\n",
              "      flex-wrap:wrap;\n",
              "      gap: 12px;\n",
              "    }\n",
              "\n",
              "    .colab-df-convert {\n",
              "      background-color: #E8F0FE;\n",
              "      border: none;\n",
              "      border-radius: 50%;\n",
              "      cursor: pointer;\n",
              "      display: none;\n",
              "      fill: #1967D2;\n",
              "      height: 32px;\n",
              "      padding: 0 0 0 0;\n",
              "      width: 32px;\n",
              "    }\n",
              "\n",
              "    .colab-df-convert:hover {\n",
              "      background-color: #E2EBFA;\n",
              "      box-shadow: 0px 1px 2px rgba(60, 64, 67, 0.3), 0px 1px 3px 1px rgba(60, 64, 67, 0.15);\n",
              "      fill: #174EA6;\n",
              "    }\n",
              "\n",
              "    [theme=dark] .colab-df-convert {\n",
              "      background-color: #3B4455;\n",
              "      fill: #D2E3FC;\n",
              "    }\n",
              "\n",
              "    [theme=dark] .colab-df-convert:hover {\n",
              "      background-color: #434B5C;\n",
              "      box-shadow: 0px 1px 3px 1px rgba(0, 0, 0, 0.15);\n",
              "      filter: drop-shadow(0px 1px 2px rgba(0, 0, 0, 0.3));\n",
              "      fill: #FFFFFF;\n",
              "    }\n",
              "  </style>\n",
              "\n",
              "      <script>\n",
              "        const buttonEl =\n",
              "          document.querySelector('#df-5aa0cb50-0d84-468c-87a6-5ab2200744ae button.colab-df-convert');\n",
              "        buttonEl.style.display =\n",
              "          google.colab.kernel.accessAllowed ? 'block' : 'none';\n",
              "\n",
              "        async function convertToInteractive(key) {\n",
              "          const element = document.querySelector('#df-5aa0cb50-0d84-468c-87a6-5ab2200744ae');\n",
              "          const dataTable =\n",
              "            await google.colab.kernel.invokeFunction('convertToInteractive',\n",
              "                                                     [key], {});\n",
              "          if (!dataTable) return;\n",
              "\n",
              "          const docLinkHtml = 'Like what you see? Visit the ' +\n",
              "            '<a target=\"_blank\" href=https://colab.research.google.com/notebooks/data_table.ipynb>data table notebook</a>'\n",
              "            + ' to learn more about interactive tables.';\n",
              "          element.innerHTML = '';\n",
              "          dataTable['output_type'] = 'display_data';\n",
              "          await google.colab.output.renderOutput(dataTable, element);\n",
              "          const docLink = document.createElement('div');\n",
              "          docLink.innerHTML = docLinkHtml;\n",
              "          element.appendChild(docLink);\n",
              "        }\n",
              "      </script>\n",
              "    </div>\n",
              "  </div>\n",
              "  "
            ],
            "text/plain": [
              "                   weight  vertical_length  ...    height     width\n",
              "weight           1.000000         0.915712  ...  0.724345  0.886507\n",
              "vertical_length  0.915712         1.000000  ...  0.625378  0.867050\n",
              "diagnol_length   0.918618         0.999517  ...  0.640441  0.873547\n",
              "cross_length     0.923044         0.992031  ...  0.703409  0.878520\n",
              "height           0.724345         0.625378  ...  1.000000  0.792881\n",
              "width            0.886507         0.867050  ...  0.792881  1.000000\n",
              "\n",
              "[6 rows x 6 columns]"
            ]
          },
          "metadata": {},
          "execution_count": 9
        }
      ],
      "source": [
        "# The method calculates the correlation coefficient between all the numerical columns\n",
        "corr = df.corr(method='pearson')\n",
        "corr"
      ]
    },
    {
      "cell_type": "markdown",
      "id": "7f2bed25",
      "metadata": {
        "papermill": {
          "duration": 0.020406,
          "end_time": "2021-08-22T18:50:08.816395",
          "exception": false,
          "start_time": "2021-08-22T18:50:08.795989",
          "status": "completed"
        },
        "tags": [],
        "id": "7f2bed25"
      },
      "source": [
        "From above correlation coefficient values we can see that Correlation between cross_length and weight is stronger as r value is 0.917462."
      ]
    },
    {
      "cell_type": "code",
      "execution_count": 10,
      "id": "b6c7b10d",
      "metadata": {
        "execution": {
          "iopub.execute_input": "2021-08-22T18:50:08.902849Z",
          "iopub.status.busy": "2021-08-22T18:50:08.901799Z",
          "iopub.status.idle": "2021-08-22T18:50:09.141283Z",
          "shell.execute_reply": "2021-08-22T18:50:09.140742Z",
          "shell.execute_reply.started": "2021-08-19T00:13:05.536541Z"
        },
        "papermill": {
          "duration": 0.304131,
          "end_time": "2021-08-22T18:50:09.141431",
          "exception": false,
          "start_time": "2021-08-22T18:50:08.837300",
          "status": "completed"
        },
        "tags": [],
        "colab": {
          "base_uri": "https://localhost:8080/",
          "height": 351
        },
        "id": "b6c7b10d",
        "outputId": "76fee4a3-0be9-4833-94f1-ef93d873d187"
      },
      "outputs": [
        {
          "output_type": "execute_result",
          "data": {
            "text/plain": [
              "<matplotlib.axes._subplots.AxesSubplot at 0x7f132e18c990>"
            ]
          },
          "metadata": {},
          "execution_count": 10
        },
        {
          "output_type": "display_data",
          "data": {
            "image/png": "[encoded data removed]",
            "text/plain": [
              "<Figure size 432x288 with 2 Axes>"
            ]
          },
          "metadata": {
            "needs_background": "light"
          }
        }
      ],
      "source": [
        "# Plotting the heat map for the correlation values\n",
        "\n",
        "sns.heatmap(corr, xticklabels = corr.columns.values, yticklabels=corr.columns.values)"
      ]
    },
    {
      "cell_type": "markdown",
      "id": "dde24dc0",
      "metadata": {
        "papermill": {
          "duration": 0.022025,
          "end_time": "2021-08-22T18:50:09.186029",
          "exception": false,
          "start_time": "2021-08-22T18:50:09.164004",
          "status": "completed"
        },
        "tags": [],
        "id": "dde24dc0"
      },
      "source": [
        "# Split the data for training and testing"
      ]
    },
    {
      "cell_type": "code",
      "execution_count": 11,
      "id": "74b947ed",
      "metadata": {
        "execution": {
          "iopub.execute_input": "2021-08-22T18:50:09.236297Z",
          "iopub.status.busy": "2021-08-22T18:50:09.235655Z",
          "iopub.status.idle": "2021-08-22T18:50:09.426859Z",
          "shell.execute_reply": "2021-08-22T18:50:09.425987Z",
          "shell.execute_reply.started": "2021-08-19T00:13:05.824708Z"
        },
        "papermill": {
          "duration": 0.218716,
          "end_time": "2021-08-22T18:50:09.427069",
          "exception": false,
          "start_time": "2021-08-22T18:50:09.208353",
          "status": "completed"
        },
        "tags": [],
        "id": "74b947ed"
      },
      "outputs": [],
      "source": [
        "from sklearn.model_selection import train_test_split\n",
        "x = df.drop(['weight','species'], axis=1).values\n",
        "y = df['weight'].values\n",
        "\n",
        "X_train, X_test, Y_train, Y_test =  train_test_split( x,y,test_size=0.3, random_state=10)\n"
      ]
    },
    {
      "cell_type": "code",
      "execution_count": 12,
      "id": "b3fddf0d",
      "metadata": {
        "execution": {
          "iopub.execute_input": "2021-08-22T18:50:09.478016Z",
          "iopub.status.busy": "2021-08-22T18:50:09.477172Z",
          "iopub.status.idle": "2021-08-22T18:50:09.482023Z",
          "shell.execute_reply": "2021-08-22T18:50:09.481378Z",
          "shell.execute_reply.started": "2021-08-19T00:13:06.025857Z"
        },
        "papermill": {
          "duration": 0.032667,
          "end_time": "2021-08-22T18:50:09.482180",
          "exception": false,
          "start_time": "2021-08-22T18:50:09.449513",
          "status": "completed"
        },
        "tags": [],
        "colab": {
          "base_uri": "https://localhost:8080/"
        },
        "id": "b3fddf0d",
        "outputId": "427777b3-e125-44e6-fce8-61edc6f093ef"
      },
      "outputs": [
        {
          "output_type": "stream",
          "name": "stdout",
          "text": [
            "Shape of training set for X = (111, 5)\n",
            "Shape of testing  set for X = (48, 5)\n",
            "Shape of training set for Y = (111,)\n",
            "Shape of testing  set for Y = (48,)\n"
          ]
        }
      ],
      "source": [
        "# Shapes of the training and testing data\n",
        "\n",
        "print(f'Shape of training set for X = {X_train.shape}')\n",
        "print(f'Shape of testing  set for X = {X_test.shape}')\n",
        "print(f'Shape of training set for Y = {Y_train.shape}')\n",
        "print(f'Shape of testing  set for Y = {Y_test.shape}')"
      ]
    },
    {
      "cell_type": "code",
      "execution_count": 13,
      "id": "fd76f8bb",
      "metadata": {
        "execution": {
          "iopub.execute_input": "2021-08-22T18:50:09.535494Z",
          "iopub.status.busy": "2021-08-22T18:50:09.534820Z",
          "iopub.status.idle": "2021-08-22T18:50:09.798530Z",
          "shell.execute_reply": "2021-08-22T18:50:09.799049Z",
          "shell.execute_reply.started": "2021-08-19T00:13:06.033969Z"
        },
        "papermill": {
          "duration": 0.293017,
          "end_time": "2021-08-22T18:50:09.799254",
          "exception": false,
          "start_time": "2021-08-22T18:50:09.506237",
          "status": "completed"
        },
        "tags": [],
        "id": "fd76f8bb"
      },
      "outputs": [],
      "source": [
        "from sklearn.linear_model import LinearRegression\n",
        "\n",
        "linear_regression = LinearRegression()\n",
        "linear_regression.fit(X_train, Y_train)\n",
        "Y_predict = linear_regression.predict(X_test)"
      ]
    },
    {
      "cell_type": "markdown",
      "id": "d0b97c4e",
      "metadata": {
        "papermill": {
          "duration": 0.022175,
          "end_time": "2021-08-22T18:50:09.844022",
          "exception": false,
          "start_time": "2021-08-22T18:50:09.821847",
          "status": "completed"
        },
        "tags": [],
        "id": "d0b97c4e"
      },
      "source": [
        "# Coefficient of Determination"
      ]
    },
    {
      "cell_type": "code",
      "execution_count": 14,
      "id": "8d5b7fff",
      "metadata": {
        "execution": {
          "iopub.execute_input": "2021-08-22T18:50:09.893092Z",
          "iopub.status.busy": "2021-08-22T18:50:09.892146Z",
          "iopub.status.idle": "2021-08-22T18:50:09.899494Z",
          "shell.execute_reply": "2021-08-22T18:50:09.898967Z",
          "shell.execute_reply.started": "2021-08-19T00:13:06.333281Z"
        },
        "papermill": {
          "duration": 0.033004,
          "end_time": "2021-08-22T18:50:09.899635",
          "exception": false,
          "start_time": "2021-08-22T18:50:09.866631",
          "status": "completed"
        },
        "tags": [],
        "colab": {
          "base_uri": "https://localhost:8080/"
        },
        "id": "8d5b7fff",
        "outputId": "6483f14e-1dba-4ffe-9295-af7c5e94242c"
      },
      "outputs": [
        {
          "output_type": "stream",
          "name": "stdout",
          "text": [
            "coefficient of determination = 0.809\n",
            "     correlation coefficient = 0.899\n"
          ]
        }
      ],
      "source": [
        "import math\n",
        "\n",
        "from sklearn.metrics import r2_score\n",
        "r2 = r2_score(Y_test ,Y_predict)\n",
        "r  = math.sqrt(r2)\n",
        "\n",
        "print(f'coefficient of determination = {r2:.3f}')\n",
        "print(f'     correlation coefficient = {r:.3f}')"
      ]
    },
    {
      "cell_type": "code",
      "execution_count": 15,
      "id": "37d9fb56",
      "metadata": {
        "execution": {
          "iopub.execute_input": "2021-08-22T18:50:09.950564Z",
          "iopub.status.busy": "2021-08-22T18:50:09.949897Z",
          "iopub.status.idle": "2021-08-22T18:50:09.951904Z",
          "shell.execute_reply": "2021-08-22T18:50:09.952410Z",
          "shell.execute_reply.started": "2021-08-19T00:13:06.342165Z"
        },
        "papermill": {
          "duration": 0.029722,
          "end_time": "2021-08-22T18:50:09.952578",
          "exception": false,
          "start_time": "2021-08-22T18:50:09.922856",
          "status": "completed"
        },
        "tags": [],
        "id": "37d9fb56"
      },
      "outputs": [],
      "source": [
        "from sklearn import metrics\n",
        "\n",
        "# Using Predicted values\n",
        "predicted = Y_predict\n",
        "expected  = Y_test\n"
      ]
    },
    {
      "cell_type": "code",
      "execution_count": 16,
      "id": "1e3350c7",
      "metadata": {
        "execution": {
          "iopub.execute_input": "2021-08-22T18:50:10.001759Z",
          "iopub.status.busy": "2021-08-22T18:50:10.001096Z",
          "iopub.status.idle": "2021-08-22T18:50:10.253929Z",
          "shell.execute_reply": "2021-08-22T18:50:10.253428Z",
          "shell.execute_reply.started": "2021-08-19T00:13:06.351998Z"
        },
        "papermill": {
          "duration": 0.278447,
          "end_time": "2021-08-22T18:50:10.254072",
          "exception": false,
          "start_time": "2021-08-22T18:50:09.975625",
          "status": "completed"
        },
        "tags": [],
        "colab": {
          "base_uri": "https://localhost:8080/",
          "height": 621
        },
        "id": "1e3350c7",
        "outputId": "0e2375cd-2964-4131-d1c9-f7a19fb98793"
      },
      "outputs": [
        {
          "output_type": "display_data",
          "data": {
            "image/png": "[encoded data removed]",
            "text/plain": [
              "<Figure size 1080x720 with 1 Axes>"
            ]
          },
          "metadata": {
            "needs_background": "light"
          }
        }
      ],
      "source": [
        "df = pd.DataFrame()\n",
        "\n",
        "df['Expected']  = pd.Series(expected)\n",
        "df['Predicted'] = pd.Series(predicted)\n",
        "\n",
        "figure = plt.figure(figsize=(15, 10))\n",
        "\n",
        "axes = sns.scatterplot(data=df, x='Expected', y='Predicted', \n",
        "                       hue='Predicted', palette='cool', \n",
        "                       legend=False)\n",
        "\n",
        "start = min(expected.min(), predicted.min())\n",
        "end   = max(expected.max(), predicted.max())\n",
        "\n",
        "axes.set_xlim(start, end)\n",
        "axes.set_ylim(start, end)\n",
        "\n",
        "plt.title('Expected vs. Predicted')\n",
        "line = plt.plot([start, end], [start, end], 'k--')"
      ]
    }
  ],
  "metadata": {
    "kernelspec": {
      "display_name": "Python 3",
      "language": "python",
      "name": "python3"
    },
    "language_info": {
      "codemirror_mode": {
        "name": "ipython",
        "version": 3
      },
      "file_extension": ".py",
      "mimetype": "text/x-python",
      "name": "python",
      "nbconvert_exporter": "python",
      "pygments_lexer": "ipython3",
      "version": "3.7.10"
    },
    "papermill": {
      "default_parameters": {},
      "duration": 12.495593,
      "end_time": "2021-08-22T18:50:10.989414",
      "environment_variables": {},
      "exception": null,
      "input_path": "__notebook__.ipynb",
      "output_path": "__notebook__.ipynb",
      "parameters": {},
      "start_time": "2021-08-22T18:49:58.493821",
      "version": "2.3.3"
    },
    "colab": {
      "name": "FishMarketAnalysis-LinearRegression.ipynb",
      "provenance": [],
      "include_colab_link": true
    }
  },
  "nbformat": 4,
  "nbformat_minor": 5
}